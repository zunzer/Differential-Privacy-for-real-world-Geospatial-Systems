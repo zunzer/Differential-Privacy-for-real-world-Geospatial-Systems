{
 "cells": [
  {
   "cell_type": "code",
   "execution_count": 34,
   "metadata": {},
   "outputs": [],
   "source": [
    "import pandas as pd\n",
    "from shapely.geometry import Point\n",
    "from sqlalchemy import create_engine, text, Table, Column, Integer, String, MetaData, Sequence, SmallInteger\n",
    "from sqlalchemy.exc import ProgrammingError\n",
    "import numpy as np\n",
    "import configparser"
   ]
  },
  {
   "cell_type": "code",
   "execution_count": 35,
   "metadata": {},
   "outputs": [],
   "source": [
    "config = configparser.ConfigParser()\n",
    "config.read(\"database_settings.ini\")\n",
    "ini = config[\"default\"]"
   ]
  },
  {
   "cell_type": "code",
   "execution_count": 36,
   "metadata": {},
   "outputs": [],
   "source": [
    "engine = create_engine(f\"postgresql://{ini['db_user']}:{ini['db_password']}@{ini['db_host']}:{ini['db_port']}/{ini['db_name']}\")"
   ]
  },
  {
   "cell_type": "code",
   "execution_count": 37,
   "metadata": {},
   "outputs": [],
   "source": [
    "conn = engine.connect()"
   ]
  },
  {
   "cell_type": "code",
   "execution_count": 38,
   "metadata": {},
   "outputs": [
    {
     "name": "stdout",
     "output_type": "stream",
     "text": [
      "(psycopg2.errors.DuplicateObject) extension \"postgis\" already exists\n",
      "\n",
      "[SQL: CREATE EXTENSION postgis]\n",
      "(Background on this error at: https://sqlalche.me/e/20/f405)\n"
     ]
    }
   ],
   "source": [
    "try:\n",
    "    conn.execute(text(\"CREATE EXTENSION postgis\"))\n",
    "    conn.execute(text(\"CREATE EXTENSION postgis_topology\"))\n",
    "    conn.commit()\n",
    "except ProgrammingError as e:\n",
    "    conn.rollback()\n",
    "    print(e)\n"
   ]
  },
  {
   "cell_type": "code",
   "execution_count": 39,
   "metadata": {},
   "outputs": [
    {
     "name": "stdout",
     "output_type": "stream",
     "text": [
      "[('POSTGIS=\"3.3.2 POSTGIS_REVISION\" [EXTENSION] (liblwgeom version mismatch: \"3.3.2 4975da8\") PGSQL=\"150\" GEOS=\"3.11.2-CAPI-1.17.2\" PROJ=\"9.2.0\" LIBXML= ... (26 characters truncated) ... BPROTOBUF=\"1.4.1\" WAGYU=\"0.5.0 (Internal)\" (core procs from \"3.3.2 4975da8\" need upgrade) TOPOLOGY (topology procs from \"3.3.2 4975da8\" need upgrade)',)]\n"
     ]
    }
   ],
   "source": [
    "try:\n",
    "    result = conn.execute(text(\"SELECT postgis_full_version()\"))\n",
    "    conn.commit()\n",
    "    print(result.fetchall())\n",
    "except ProgrammingError as e:\n",
    "    conn.rollback()\n",
    "    print(e)"
   ]
  },
  {
   "cell_type": "code",
   "execution_count": 40,
   "metadata": {},
   "outputs": [
    {
     "name": "stdout",
     "output_type": "stream",
     "text": [
      "[]\n"
     ]
    }
   ],
   "source": [
    "try:\n",
    "    conn.execute(text(f\"DROP SEQUENCE {ini['db_schema']}.id_seq\"))\n",
    "    \n",
    "    conn.commit()\n",
    "    print(result.fetchall())\n",
    "except ProgrammingError as e:\n",
    "    conn.rollback()\n",
    "    print(e)"
   ]
  },
  {
   "cell_type": "code",
   "execution_count": 41,
   "metadata": {},
   "outputs": [
    {
     "name": "stdout",
     "output_type": "stream",
     "text": [
      "[]\n"
     ]
    }
   ],
   "source": [
    "try:\n",
    "    conn.execute(text(f\"DROP TABLE {ini['db_schema']}.{ini['table_name']}\"))\n",
    "    conn.commit()\n",
    "    print(result.fetchall())\n",
    "except ProgrammingError as e:\n",
    "    conn.rollback()\n",
    "    print(e)"
   ]
  },
  {
   "cell_type": "code",
   "execution_count": 42,
   "metadata": {},
   "outputs": [],
   "source": [
    "meta = MetaData()\n",
    "\n",
    "db_table = Table(\n",
    "    ini[\"table_name\"], meta,\n",
    "    Column(\"id\", Integer, Sequence(\"id_seq\", start=1), primary_key=True),\n",
    "    Column(\"age\", SmallInteger),\n",
    "    Column(\"gender\", String(6)),\n",
    "    Column(\"marital_status\", String(17)),\n",
    "    Column(\"occupation\", String(255)),\n",
    "    Column(\"monthly_income\", String(255)),\n",
    "    Column(\"education\", String(255)),\n",
    "    Column(\"family_size\", SmallInteger),\n",
    "    Column(\"pin_code\", SmallInteger),\n",
    "    Column(\"medium_p1\", String(255)),\n",
    "    Column(\"medium_p2\", String(255)),\n",
    "    Column(\"meal_p1\", String(255)),\n",
    "    Column(\"meal_p2\", String(255)),\n",
    "    Column(\"preference_p1\", String(255)),\n",
    "    Column(\"preference_p2\", String(255)),\n",
    "    Column(\"ease_and_convenience\", String(17)),\n",
    "    Column(\"time_saving\", String(17)),\n",
    "    Column(\"more_restaurant_choices\", String(17)),\n",
    "    Column(\"easy_payment_option\", String(17)),\n",
    "    Column(\"more_offers_and_discounts\", String(17)),\n",
    "    Column(\"good_food_quality\", String(17)),\n",
    "    Column(\"good_tracking_system\", String(17)),\n",
    "    Column(\"self_cooking\", String(17)),\n",
    "    Column(\"health_concern\", String(17)),\n",
    "    Column(\"late_delivery\", String(17)),\n",
    "    Column(\"poor_hygiene\", String(17)),\n",
    "    Column(\"bad_past_experience\", String(17)),\n",
    "    Column(\"unavailable\", String(17)),\n",
    "    Column(\"unaffordable\", String(17)),\n",
    "    Column(\"long_delivery_time\", String(17)),\n",
    "    Column(\"delivery_assignment_delay\", String(17)),\n",
    "    Column(\"delivery_pickup_delay\", String(17)),\n",
    "    Column(\"wrong_order\", String(17)),\n",
    "    Column(\"missing_item\", String(17)),\n",
    "    Column(\"ordered_by_mistake\", String(17)),\n",
    "    Column(\"time_influence\", String(5)),\n",
    "    Column(\"order_time\", String(255)),\n",
    "    Column(\"max_wait_time\", String(255)),\n",
    "    Column(\"busy_location_residence\", String(17)),\n",
    "    Column(\"google_maps_accuracy\", String(17)),\n",
    "    Column(\"good_road_condition\", String(17)),\n",
    "    Column(\"low_quantity_low_time\", String(17)),\n",
    "    Column(\"deliver_person_availability\", String(17)),\n",
    "    Column(\"rating_influence\", String(5)),\n",
    "    Column(\"less_delivery_time\", String(20)),\n",
    "    Column(\"high_package_quality\", String(20)),\n",
    "    Column(\"call_number\", String(20)),\n",
    "    Column(\"politeness\", String(20)),\n",
    "    Column(\"freshness\", String(20)),\n",
    "    Column(\"temperature\", String(20)),\n",
    "    Column(\"good_taste\", String(20)),\n",
    "    Column(\"good_quantity\", String(20)),\n",
    "    Column(\"output\", String(3)),\n",
    "    Column(\"review\", String(255))\n",
    ")\n",
    "\n",
    "db_table.create(engine)"
   ]
  },
  {
   "cell_type": "code",
   "execution_count": 43,
   "metadata": {},
   "outputs": [],
   "source": [
    "dataset = pd.read_csv(ini[\"path_to_csv\"])"
   ]
  },
  {
   "cell_type": "code",
   "execution_count": 44,
   "metadata": {},
   "outputs": [],
   "source": [
    "dataset[\"Reviews\"] = np.where(dataset['Reviews'].str.contains(\"nil\", case=False), np.nan, dataset['Reviews'])"
   ]
  },
  {
   "cell_type": "code",
   "execution_count": 45,
   "metadata": {},
   "outputs": [],
   "source": [
    "dataset['point'] = dataset.apply(lambda row: Point(row['longitude'], row['latitude']), axis=1)"
   ]
  },
  {
   "cell_type": "code",
   "execution_count": 46,
   "metadata": {},
   "outputs": [],
   "source": [
    "dataset['geom'] = dataset['point'].apply(lambda point: point.wkt)\n",
    "dataset.drop([\"latitude\", \"longitude\", \"point\"], axis=1, inplace=True)"
   ]
  },
  {
   "cell_type": "code",
   "execution_count": 47,
   "metadata": {},
   "outputs": [
    {
     "data": {
      "text/plain": [
       "388"
      ]
     },
     "execution_count": 47,
     "metadata": {},
     "output_type": "execute_result"
    }
   ],
   "source": [
    "dataset.to_sql(ini[\"table_name\"], conn, if_exists='replace')"
   ]
  },
  {
   "cell_type": "code",
   "execution_count": 48,
   "metadata": {},
   "outputs": [],
   "source": [
    "conn.close()"
   ]
  }
 ],
 "metadata": {
  "kernelspec": {
   "display_name": "esm-2023",
   "language": "python",
   "name": "python3"
  },
  "language_info": {
   "codemirror_mode": {
    "name": "ipython",
    "version": 3
   },
   "file_extension": ".py",
   "mimetype": "text/x-python",
   "name": "python",
   "nbconvert_exporter": "python",
   "pygments_lexer": "ipython3",
   "version": "3.11.3"
  },
  "orig_nbformat": 4
 },
 "nbformat": 4,
 "nbformat_minor": 2
}
